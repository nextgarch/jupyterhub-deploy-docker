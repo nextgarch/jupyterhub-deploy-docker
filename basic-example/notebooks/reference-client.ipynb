{
 "cells": [
  {
   "cell_type": "code",
   "execution_count": null,
   "metadata": {},
   "outputs": [],
   "source": [
    "%pip install aisuite[all]\n",
    "%pip install docstring_parser\n",
    "%pip install pyyaml"
   ]
  },
  {
   "cell_type": "code",
   "execution_count": 2,
   "metadata": {},
   "outputs": [],
   "source": [
    "import aisuite as ai\n",
    "import json\n",
    "import yaml"
   ]
  },
  {
   "cell_type": "markdown",
   "metadata": {},
   "source": [
    "# Setup the Client API"
   ]
  },
  {
   "cell_type": "code",
   "execution_count": null,
   "metadata": {},
   "outputs": [],
   "source": [
    "########################################################\n",
    "# make sure you copy the OpenAI API key to providers.yml\n",
    "########################################################\n",
    "\n",
    "PROVIDER_CONFIG_FILE = 'providers.yml'\n",
    "with open(PROVIDER_CONFIG_FILE, 'r') as yml_file:\n",
    "    provider_configs = yaml.safe_load(yml_file)[\"provider_configs\"]\n",
    "\n",
    "print(json.dumps(provider_configs, indent=4))\n",
    "client = ai.Client(provider_configs=provider_configs)"
   ]
  },
  {
   "cell_type": "markdown",
   "metadata": {},
   "source": [
    "# Models"
   ]
  },
  {
   "cell_type": "code",
   "execution_count": 5,
   "metadata": {},
   "outputs": [],
   "source": [
    "# Local Ollama models\n",
    "ollama_llama3_2 = \"ollama:llama3.2:latest\"\n",
    "ollama_gemma = \"ollama:gemma:latest\"\n",
    "\n",
    "# OpenAI models\n",
    "openai_gpt4o = \"openai:gpt-4o\""
   ]
  },
  {
   "cell_type": "markdown",
   "metadata": {},
   "source": [
    "# Call Ollama"
   ]
  },
  {
   "cell_type": "code",
   "execution_count": null,
   "metadata": {},
   "outputs": [],
   "source": [
    "messages = [\n",
    "    {\n",
    "        \"role\": \"system\", \n",
    "        \"content\": \"Be verbose\"\n",
    "    },\n",
    "    {\n",
    "        \"role\": \"user\", \n",
    "        \"content\": \"Tell me about University of Michigan CSE department\"\n",
    "    },\n",
    "]\n",
    "\n",
    "response = client.chat.completions.create(\n",
    "    model=ollama_llama3_2, \n",
    "    messages=messages, \n",
    "    temperature=0.75,\n",
    ")\n",
    "\n",
    "response_content = response.choices[0].message.content\n",
    "print(response_content)"
   ]
  },
  {
   "cell_type": "markdown",
   "metadata": {},
   "source": [
    "# Call OpenAPI"
   ]
  },
  {
   "cell_type": "code",
   "execution_count": null,
   "metadata": {},
   "outputs": [],
   "source": [
    "messages = [\n",
    "    {\n",
    "        \"role\": \"system\", \n",
    "        \"content\": \"Be verbose\"\n",
    "    },\n",
    "    {\n",
    "        \"role\": \"user\", \n",
    "        \"content\": \"Tell me about University of Michigan CSE department\"\n",
    "    },\n",
    "]\n",
    "\n",
    "response = client.chat.completions.create(\n",
    "    model=openai_gpt4o,\n",
    "    messages=messages, \n",
    "    temperature=0.75,\n",
    ")\n",
    "\n",
    "response_content = response.choices[0].message.content\n",
    "print(response_content)"
   ]
  },
  {
   "cell_type": "code",
   "execution_count": null,
   "metadata": {},
   "outputs": [],
   "source": []
  }
 ],
 "metadata": {
  "kernelspec": {
   "display_name": "Python 3 (ipykernel)",
   "language": "python",
   "name": "python3"
  },
  "language_info": {
   "codemirror_mode": {
    "name": "ipython",
    "version": 3
   },
   "file_extension": ".py",
   "mimetype": "text/x-python",
   "name": "python",
   "nbconvert_exporter": "python",
   "pygments_lexer": "ipython3",
   "version": "3.12.9"
  }
 },
 "nbformat": 4,
 "nbformat_minor": 4
}
